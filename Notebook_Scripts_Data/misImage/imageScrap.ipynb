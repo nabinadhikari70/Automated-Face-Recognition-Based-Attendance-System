{
 "cells": [
  {
   "cell_type": "code",
   "execution_count": 4,
   "id": "65232f48",
   "metadata": {},
   "outputs": [],
   "source": [
    "import requests \n",
    "import shutil\n",
    "from bs4 import BeautifulSoup"
   ]
  },
  {
   "cell_type": "code",
   "execution_count": 5,
   "id": "ff5df82f",
   "metadata": {},
   "outputs": [],
   "source": [
    "rollno=1"
   ]
  },
  {
   "cell_type": "code",
   "execution_count": 8,
   "id": "272e8470",
   "metadata": {},
   "outputs": [
    {
     "name": "stdout",
     "output_type": "stream",
     "text": [
      "Image sucessfully Downloaded:  kce074bct001.JPG\n",
      "Image sucessfully Downloaded:  kce074bct002.JPG\n",
      "Image sucessfully Downloaded:  kce074bct003.JPG\n",
      "Image sucessfully Downloaded:  kce074bct004.JPG\n",
      "Image sucessfully Downloaded:  kce074bct005.JPG\n",
      "Image sucessfully Downloaded:  kce074bct006.JPG\n",
      "Image sucessfully Downloaded:  kce074bct007.JPG\n",
      "Image sucessfully Downloaded:  kce074bct008.JPG\n",
      "Image sucessfully Downloaded:  kce074bct009.JPG\n",
      "Image sucessfully Downloaded:  kce074bct010.JPG\n",
      "Image sucessfully Downloaded:  kce074bct011.JPG\n",
      "Image sucessfully Downloaded:  kce074bct012.JPG\n",
      "Image sucessfully Downloaded:  kce074bct013.JPG\n",
      "Image sucessfully Downloaded:  kce074bct014.JPG\n",
      "Image sucessfully Downloaded:  kce074bct015.JPG\n",
      "Image sucessfully Downloaded:  kce074bct016.JPG\n",
      "Image sucessfully Downloaded:  kce074bct017.JPG\n",
      "Image sucessfully Downloaded:  kce074bct019.JPG\n",
      "Image sucessfully Downloaded:  kce074bct020.JPG\n",
      "Image sucessfully Downloaded:  kce074bct021.JPG\n",
      "Image sucessfully Downloaded:  kce074bct022.JPG\n",
      "Image sucessfully Downloaded:  kce074bct023.JPG\n",
      "Image sucessfully Downloaded:  kce074bct024.JPG\n",
      "Image sucessfully Downloaded:  kce074bct025.JPG\n",
      "Image sucessfully Downloaded:  kce074bct026.JPG\n",
      "Image sucessfully Downloaded:  kce074bct027.JPG\n",
      "Image sucessfully Downloaded:  kce074bct028.JPG\n",
      "Image sucessfully Downloaded:  kce074bct029.JPG\n",
      "Image sucessfully Downloaded:  kce074bct030.JPG\n",
      "Image sucessfully Downloaded:  kce074bct031.JPG\n",
      "Image sucessfully Downloaded:  kce074bct032.JPG\n",
      "Image sucessfully Downloaded:  kce074bct033.JPG\n",
      "Image sucessfully Downloaded:  kce074bct034.JPG\n",
      "Image sucessfully Downloaded:  kce074bct035.JPG\n",
      "Image sucessfully Downloaded:  kce074bct037.JPG\n",
      "Image sucessfully Downloaded:  kce074bct038.JPG\n",
      "Image sucessfully Downloaded:  kce074bct039.JPG\n",
      "Image sucessfully Downloaded:  kce074bct040.JPG\n",
      "Image sucessfully Downloaded:  kce074bct041.JPG\n",
      "Image sucessfully Downloaded:  kce074bct042.JPG\n",
      "Image sucessfully Downloaded:  kce074bct043.JPG\n",
      "Image sucessfully Downloaded:  kce074bct044.JPG\n",
      "Image sucessfully Downloaded:  kce074bct045.JPG\n",
      "Image sucessfully Downloaded:  kce074bct046.JPG\n",
      "Image sucessfully Downloaded:  kce074bct047.JPG\n",
      "Image sucessfully Downloaded:  kce074bct048.JPG\n"
     ]
    }
   ],
   "source": [
    "for rollno in range(1,49):\n",
    "    if rollno<10:\n",
    "        image_url=\"https://khwopa.edu.np/uploads/student/KCE-2074-BCT-00\"+str(rollno)+\".JPG\"\n",
    "        filename=\"kce074bct00\"+str(rollno)+\".JPG\"\n",
    "    else:\n",
    "        image_url=\"https://khwopa.edu.np/uploads/student/KCE-2074-BCT-0\"+str(rollno)+\".JPG\"\n",
    "        filename=\"kce074bct0\"+str(rollno)+\".JPG\"\n",
    "    # Open the url image, set stream to True, this will return the stream content.\n",
    "    r = requests.get(image_url, stream = True)\n",
    "    # Check if the image was retrieved successfully\n",
    "    if r.status_code == 200:\n",
    "        # Set decode_content value to True, otherwise the downloaded image file's size will be zero.\n",
    "        r.raw.decode_content = True\n",
    "        with open(filename,'wb') as f:\n",
    "            shutil.copyfileobj(r.raw, f)\n",
    "            print('Image sucessfully Downloaded: ',filename)"
   ]
  },
  {
   "cell_type": "code",
   "execution_count": null,
   "id": "73b2e8df",
   "metadata": {},
   "outputs": [],
   "source": []
  }
 ],
 "metadata": {
  "kernelspec": {
   "display_name": "Python 3 (ipykernel)",
   "language": "python",
   "name": "python3"
  },
  "language_info": {
   "codemirror_mode": {
    "name": "ipython",
    "version": 3
   },
   "file_extension": ".py",
   "mimetype": "text/x-python",
   "name": "python",
   "nbconvert_exporter": "python",
   "pygments_lexer": "ipython3",
   "version": "3.7.1"
  }
 },
 "nbformat": 4,
 "nbformat_minor": 5
}
